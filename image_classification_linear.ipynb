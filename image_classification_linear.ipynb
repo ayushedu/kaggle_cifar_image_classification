{
 "cells": [
  {
   "cell_type": "markdown",
   "metadata": {},
   "source": [
    "# Kaggle CFIR image classification"
   ]
  },
  {
   "cell_type": "markdown",
   "metadata": {},
   "source": [
    "## Load pixel data"
   ]
  },
  {
   "cell_type": "code",
   "execution_count": 2,
   "metadata": {
    "collapsed": true
   },
   "outputs": [],
   "source": [
    "import numpy as np\n",
    "import pandas as pd"
   ]
  },
  {
   "cell_type": "code",
   "execution_count": 156,
   "metadata": {
    "collapsed": false
   },
   "outputs": [],
   "source": [
    "pixels = np.load('data/train_data.npy') # Image data\n",
    "labels = pd.read_csv('data/trainLabels.csv') # Image labels"
   ]
  },
  {
   "cell_type": "code",
   "execution_count": 157,
   "metadata": {
    "collapsed": false
   },
   "outputs": [
    {
     "name": "stdout",
     "output_type": "stream",
     "text": [
      "{'horse': 5, 'automobile': 3, 'deer': 2, 'dog': 8, 'frog': 0, 'cat': 7, 'truck': 1, 'ship': 6, 'bird': 4, 'airplane': 9}\n"
     ]
    }
   ],
   "source": [
    "# Convert labels to int\n",
    "\n",
    "## get unique labels\n",
    "unique_labels = labels.label.unique().tolist()\n",
    "unique_labels = dict((val, unique_labels.index(val)) for val in unique_labels)\n",
    "print unique_labels\n",
    "\n",
    "# convert labels to int\n",
    "y = [unique_labels[val] for val in labels.label]"
   ]
  },
  {
   "cell_type": "code",
   "execution_count": 158,
   "metadata": {
    "collapsed": false
   },
   "outputs": [
    {
     "name": "stdout",
     "output_type": "stream",
     "text": [
      "50000\n",
      "# pixels_test, y_test 4000 4000\n"
     ]
    }
   ],
   "source": [
    "num_train_data = 45000\n",
    "num_test_data = 4000\n",
    "pixels_test = pixels[(50000-num_test_data):]\n",
    "pixels = pixels[:num_train_data]\n",
    "\n",
    "print len(y)\n",
    "y_test = y[(50000-num_test_data):]\n",
    "y = y[:num_train_data]\n",
    "\n",
    "print \"# pixels_test, y_test\", len(pixels_test), len(y_test)"
   ]
  },
  {
   "cell_type": "code",
   "execution_count": 159,
   "metadata": {
    "collapsed": false
   },
   "outputs": [
    {
     "name": "stdout",
     "output_type": "stream",
     "text": [
      "# X, X_test 45000 4000\n"
     ]
    }
   ],
   "source": [
    "# Flatten image data\n",
    "s = pixels[0].shape\n",
    "s = s[0] * s[1]\n",
    "X = [arr.reshape(s) for arr in pixels]\n",
    "X_test = [arr.reshape(s) for arr in pixels_test]\n",
    "print \"# X, X_test\", len(X), len(X_test)"
   ]
  },
  {
   "cell_type": "markdown",
   "metadata": {},
   "source": [
    "## Train a classifier using raw pixel data"
   ]
  },
  {
   "cell_type": "code",
   "execution_count": 160,
   "metadata": {
    "collapsed": false
   },
   "outputs": [
    {
     "data": {
      "text/plain": [
       "LinearRegression(copy_X=True, fit_intercept=True, n_jobs=1, normalize=False)"
      ]
     },
     "execution_count": 160,
     "metadata": {},
     "output_type": "execute_result"
    }
   ],
   "source": [
    "from sklearn import linear_model\n",
    "from sklearn import cross_validation\n",
    "\n",
    "# fit OLS regression \n",
    "clf = linear_model.LinearRegression()\n",
    "#cross_validation.cross_val_score(clf, pixels, y)\n",
    "clf.fit(X,y)\n"
   ]
  },
  {
   "cell_type": "code",
   "execution_count": 161,
   "metadata": {
    "collapsed": false
   },
   "outputs": [],
   "source": [
    "pred = clf.predict(X_test)\n",
    "#X_test"
   ]
  },
  {
   "cell_type": "code",
   "execution_count": 162,
   "metadata": {
    "collapsed": false
   },
   "outputs": [
    {
     "name": "stdout",
     "output_type": "stream",
     "text": [
      "# correct predictions 519\n",
      "Percentage correct 12\n"
     ]
    }
   ],
   "source": [
    "pred = [int(round(v)) if v > 0 else 0 for v in pred ]\n",
    "\n",
    "crt = 0\n",
    "for i in range(len(pred)):\n",
    "    crt += (pred[i] == y_test[i])\n",
    "    \n",
    "print '# correct predictions', crt\n",
    "print 'Percentage correct', (crt*100/len(pred))"
   ]
  }
 ],
 "metadata": {
  "kernelspec": {
   "display_name": "Python 2",
   "language": "python",
   "name": "python2"
  },
  "language_info": {
   "codemirror_mode": {
    "name": "ipython",
    "version": 2
   },
   "file_extension": ".py",
   "mimetype": "text/x-python",
   "name": "python",
   "nbconvert_exporter": "python",
   "pygments_lexer": "ipython2",
   "version": "2.7.9"
  }
 },
 "nbformat": 4,
 "nbformat_minor": 0
}
