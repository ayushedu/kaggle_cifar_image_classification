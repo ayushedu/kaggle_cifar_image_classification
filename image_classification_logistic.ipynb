{
 "cells": [
  {
   "cell_type": "markdown",
   "metadata": {},
   "source": [
    "# Kaggle CFIR image classification"
   ]
  },
  {
   "cell_type": "markdown",
   "metadata": {},
   "source": [
    "##Load pixel data"
   ]
  },
  {
   "cell_type": "code",
   "execution_count": 1,
   "metadata": {
    "collapsed": true
   },
   "outputs": [],
   "source": [
    "import numpy as np\n",
    "import pandas as pd"
   ]
  },
  {
   "cell_type": "code",
   "execution_count": 35,
   "metadata": {
    "collapsed": false
   },
   "outputs": [
    {
     "name": "stdout",
     "output_type": "stream",
     "text": [
      "{'horse': 5, 'automobile': 3, 'deer': 2, 'dog': 8, 'frog': 0, 'cat': 7, 'truck': 1, 'ship': 6, 'bird': 4, 'airplane': 9}\n"
     ]
    }
   ],
   "source": [
    "# Read data\n",
    "pixels = np.load('data/train_data.npy') # Image data\n",
    "labels = pd.read_csv('data/trainLabels.csv') # Image labels\n",
    "\n",
    "# Convert labels to int\n",
    "## get unique labels\n",
    "unique_labels = labels.label.unique().tolist()\n",
    "unique_labels = dict((val, unique_labels.index(val)) for val in unique_labels)\n",
    "print unique_labels\n",
    "\n",
    "# convert labels to int\n",
    "y = [unique_labels[val] for val in labels.label]"
   ]
  },
  {
   "cell_type": "code",
   "execution_count": 36,
   "metadata": {
    "collapsed": false
   },
   "outputs": [
    {
     "name": "stdout",
     "output_type": "stream",
     "text": [
      "# pixels_test, y_test 8000 8000\n"
     ]
    }
   ],
   "source": [
    "num_train_data = 40000\n",
    "num_test_data = int(num_train_data*0.2)\n",
    "pixels_test = pixels[(50000-num_test_data):]\n",
    "pixels = pixels[:num_train_data]\n",
    "\n",
    "y_test = y[(50000-num_test_data):]\n",
    "y = y[:num_train_data]\n",
    "\n",
    "print \"# pixels_test, y_test\", len(pixels_test), len(y_test)"
   ]
  },
  {
   "cell_type": "code",
   "execution_count": 37,
   "metadata": {
    "collapsed": false
   },
   "outputs": [
    {
     "name": "stdout",
     "output_type": "stream",
     "text": [
      "# X, X_test 40000 8000\n"
     ]
    }
   ],
   "source": [
    "# Flatten image data i.e. make it 1D\n",
    "s = pixels[0].shape\n",
    "s = s[0] * s[1]\n",
    "X = [arr.reshape(s) for arr in pixels]\n",
    "X_test = [arr.reshape(s) for arr in pixels_test]\n",
    "print \"# X, X_test\", len(X), len(X_test)"
   ]
  },
  {
   "cell_type": "markdown",
   "metadata": {},
   "source": [
    "##Train a classifier using raw pixel data¶"
   ]
  },
  {
   "cell_type": "code",
   "execution_count": 38,
   "metadata": {
    "collapsed": false
   },
   "outputs": [
    {
     "name": "stderr",
     "output_type": "stream",
     "text": [
      "[Parallel(n_jobs=1)]: Done  10 out of  10 | elapsed:  2.9min finished\n"
     ]
    },
    {
     "data": {
      "text/plain": [
       "LogisticRegression(C=1.0, class_weight=None, dual=False, fit_intercept=True,\n",
       "          intercept_scaling=1, max_iter=110, multi_class='ovr', n_jobs=1,\n",
       "          penalty='l2', random_state=None, solver='lbfgs', tol=0.0001,\n",
       "          verbose=1, warm_start=False)"
      ]
     },
     "execution_count": 38,
     "metadata": {},
     "output_type": "execute_result"
    }
   ],
   "source": [
    "from sklearn.linear_model import LogisticRegression as LR\n",
    "\n",
    "logr = LR(verbose=1,solver=\"lbfgs\",max_iter=110)\n",
    "logr.fit( X, y)"
   ]
  },
  {
   "cell_type": "code",
   "execution_count": 39,
   "metadata": {
    "collapsed": true
   },
   "outputs": [],
   "source": [
    "results = logr.predict(X_test)"
   ]
  },
  {
   "cell_type": "code",
   "execution_count": 40,
   "metadata": {
    "collapsed": false
   },
   "outputs": [
    {
     "name": "stdout",
     "output_type": "stream",
     "text": [
      "# correct predictions 3073\n",
      "Percentage correct 38\n"
     ]
    }
   ],
   "source": [
    "crt = 0\n",
    "for i in range(len(results)):\n",
    "    crt += (results[i] == y_test[i])\n",
    "    \n",
    "print '# correct predictions', crt\n",
    "print 'Percentage correct', (crt*100/len(results))"
   ]
  }
 ],
 "metadata": {
  "kernelspec": {
   "display_name": "Python 2",
   "language": "python",
   "name": "python2"
  },
  "language_info": {
   "codemirror_mode": {
    "name": "ipython",
    "version": 2
   },
   "file_extension": ".py",
   "mimetype": "text/x-python",
   "name": "python",
   "nbconvert_exporter": "python",
   "pygments_lexer": "ipython2",
   "version": "2.7.9"
  }
 },
 "nbformat": 4,
 "nbformat_minor": 0
}
